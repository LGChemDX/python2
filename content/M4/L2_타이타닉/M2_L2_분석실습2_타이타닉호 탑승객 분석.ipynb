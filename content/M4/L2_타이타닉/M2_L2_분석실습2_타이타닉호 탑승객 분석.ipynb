{
 "cells": [
  {
   "cell_type": "markdown",
   "metadata": {
    "id": "qXUBfCONOdID"
   },
   "source": [
    "# **분석실습2_타이타닉호 탑승객 분석**"
   ]
  },
  {
   "cell_type": "markdown",
   "metadata": {
    "id": "790IJBdRWl9r"
   },
   "source": [
    "# 1.비즈니스 시나리오"
   ]
  },
  {
   "cell_type": "markdown",
   "metadata": {
    "id": "XOiIUDJ1i11u"
   },
   "source": [
    "* 타이타닉 탑승객 중 생존자는?\n",
    "    * 1912년 유럽에서 승객과 승무원 2200여명을 태우고 미국(뉴욕)으로\n",
    "향하는 도중, 빙산에 부딪쳐 침몰한 배 타이타닉호!\n",
    "    * 이때, 약 700여명만 생존했는데, 대부분은 구명보트를 타고 살았습니다.\n",
    "    * 그렇다면, 당시 어떤 사람들이 구명보트에 탈 수 있었을까요?\n",
    "    * 우선 탑승객의 정보를 분석해 봅시다."
   ]
  },
  {
   "cell_type": "markdown",
   "metadata": {
    "id": "c1uOWzZl_YZH"
   },
   "source": [
    "# 2.환경준비"
   ]
  },
  {
   "cell_type": "markdown",
   "metadata": {
    "id": "LS2rtJiJlaF0"
   },
   "source": [
    "## (1) 라이브러리 불러오기"
   ]
  },
  {
   "cell_type": "code",
   "execution_count": null,
   "metadata": {},
   "outputs": [],
   "source": [
    "%pip install -q seaborn"
   ]
  },
  {
   "cell_type": "code",
   "execution_count": null,
   "metadata": {
    "id": "ba319GIZlcFB"
   },
   "outputs": [],
   "source": [
    "import numpy as np\n",
    "import pandas as pd\n",
    "\n",
    "import matplotlib.pyplot as plt\n",
    "import seaborn as sns"
   ]
  },
  {
   "cell_type": "markdown",
   "metadata": {
    "id": "TCceTRSHqibR"
   },
   "source": [
    "## (2) 데이터 로딩"
   ]
  },
  {
   "cell_type": "code",
   "execution_count": null,
   "metadata": {
    "id": "08FGuKtjpGOj"
   },
   "outputs": [],
   "source": [
    "data = pd.read_csv('titanic_simple.csv')"
   ]
  },
  {
   "cell_type": "markdown",
   "metadata": {
    "id": "zYKHwYHatC4k"
   },
   "source": [
    "|\t변수명\t|\t설명\t|\t구분\t|\n",
    "|----|----|----|\n",
    "|\tPassengerId \t|\t 승객ID\t|\t일련번호\t|\n",
    "|\tSurvived \t|\t 생존여부(0-사망, 1-생존)\t|\t범주형\t|\n",
    "|\tPclass \t|\t 객실등급(1,2,3)\t|\t범주형\t|\n",
    "|\tName \t|\t 승객이름\t|\t문자열\t|\n",
    "|\tSex \t|\t 성별(male, female)\t|\t범주형\t|\n",
    "|\tEmbarked \t|\t 승선지역(Southampton, Queenstown, Cherbourg)\t|\t범주형\t|"
   ]
  },
  {
   "cell_type": "markdown",
   "metadata": {},
   "source": [
    "# 3.데이터 기본 조회"
   ]
  },
  {
   "cell_type": "markdown",
   "metadata": {
    "tags": []
   },
   "source": [
    "## (1) 상위 5개 행 조회"
   ]
  },
  {
   "cell_type": "code",
   "execution_count": null,
   "metadata": {},
   "outputs": [],
   "source": [
    "data.head()"
   ]
  },
  {
   "cell_type": "markdown",
   "metadata": {},
   "source": [
    "## (2) 데이터프레임 정보 조회(.info())"
   ]
  },
  {
   "cell_type": "code",
   "execution_count": null,
   "metadata": {},
   "outputs": [],
   "source": [
    "data.info()"
   ]
  },
  {
   "cell_type": "markdown",
   "metadata": {
    "id": "A7QYqGKWdMZi"
   },
   "source": [
    "# 4.단변량분석 : 범주형 변수\n",
    "\n",
    "* 범주형 변수 분석 도구\n",
    "    * 기초통계량 : .value_counts()\n",
    "    * 시각화 : sns.countplot()\n",
    "* 분석할 내용\n",
    "    * 건수/비율이 높은 범주와, 낮은 범주를 찾고\n",
    "    * 이유를 파악(상상)해 봅시다."
   ]
  },
  {
   "cell_type": "markdown",
   "metadata": {
    "id": "m5zcg9CCg86m"
   },
   "source": [
    "## (1) Survived"
   ]
  },
  {
   "cell_type": "code",
   "execution_count": null,
   "metadata": {},
   "outputs": [],
   "source": [
    "var = 'Survived'"
   ]
  },
  {
   "cell_type": "markdown",
   "metadata": {
    "id": "G3U9TwMt-7aD"
   },
   "source": [
    "* 기초통계량"
   ]
  },
  {
   "cell_type": "code",
   "execution_count": null,
   "metadata": {
    "id": "fzfJAos6g86m"
   },
   "outputs": [],
   "source": [
    "# 범주별 빈도수\n",
    "data[var].value_counts()"
   ]
  },
  {
   "cell_type": "code",
   "execution_count": null,
   "metadata": {
    "id": "48ZQmSGa_FMk"
   },
   "outputs": [],
   "source": [
    "# 범주별 비율\n",
    "data[var].value_counts(normalize = True)"
   ]
  },
  {
   "cell_type": "markdown",
   "metadata": {
    "id": "5USCGxUd_Jd3"
   },
   "source": [
    "* 시각화\n",
    "    * plt.subplot을 이용해서 1행2열 프레임에 그래프 2개를 그려 봅시다.\n",
    "    * 그래프1 : sns.countplot\n",
    "    * 그래프2 : plt.pie"
   ]
  },
  {
   "cell_type": "code",
   "execution_count": null,
   "metadata": {
    "id": "o8aTkvBa_LbJ"
   },
   "outputs": [],
   "source": [
    "# 그래프 크기\n",
    "plt.figure(figsize = (8, 4))\n",
    "\n",
    "# 그래프1 : 막대 그래프\n",
    "plt.subplot( 1 , 2 , 1 )\n",
    "sns.countplot(x = var    , data = data   )\n",
    "plt.grid()\n",
    "\n",
    "# 그래프2 : 파이차트\n",
    "plt.subplot( 1 , 2  , 2 )\n",
    "# 먼저 집계\n",
    "temp = data[var].value_counts()\n",
    "\n",
    "# 그래프\n",
    "plt.pie(temp.values, labels = temp.index, autopct = '%.2f%%')\n",
    "\n",
    "plt.tight_layout()\n",
    "plt.show()"
   ]
  },
  {
   "cell_type": "markdown",
   "metadata": {
    "id": "XZsiH_dYBvG0"
   },
   "source": [
    "* 파악된 내용을 적어 봅시다."
   ]
  },
  {
   "cell_type": "code",
   "execution_count": null,
   "metadata": {
    "id": "d-rqhoYcBxgA"
   },
   "outputs": [],
   "source": []
  },
  {
   "cell_type": "markdown",
   "metadata": {
    "id": "NzM65bOSB6ir"
   },
   "source": [
    "## (2) Pclass"
   ]
  },
  {
   "cell_type": "code",
   "execution_count": null,
   "metadata": {},
   "outputs": [],
   "source": [
    "var = "
   ]
  },
  {
   "cell_type": "markdown",
   "metadata": {
    "id": "7_lpr0xhB6i-"
   },
   "source": [
    "* 기초통계량"
   ]
  },
  {
   "cell_type": "code",
   "execution_count": null,
   "metadata": {
    "id": "fzfJAos6g86m"
   },
   "outputs": [],
   "source": [
    "# 범주별 빈도수\n",
    "data[    ].v"
   ]
  },
  {
   "cell_type": "code",
   "execution_count": null,
   "metadata": {
    "id": "48ZQmSGa_FMk"
   },
   "outputs": [],
   "source": [
    "# 범주별 비율\n",
    "data[    ].v   (nor   =  )"
   ]
  },
  {
   "cell_type": "markdown",
   "metadata": {
    "id": "5USCGxUd_Jd3"
   },
   "source": [
    "* 시각화\n",
    "    * plt.subplot을 이용해서 1행2열 프레임에 그래프 2개를 그려 봅시다.\n",
    "    * 그래프1 : sns.countplot\n",
    "    * 그래프2 : plt.pie"
   ]
  },
  {
   "cell_type": "code",
   "execution_count": null,
   "metadata": {
    "id": "o8aTkvBa_LbJ",
    "tags": []
   },
   "outputs": [],
   "source": [
    "# 그래프 크기\n",
    "plt.figure(figsize = (8, 4))\n",
    "\n",
    "# 그래프1 : 막대 그래프\n",
    "plt.subplot(  ,   ,  )\n",
    "sns.co   (x =    , data =    )\n",
    "plt.grid()\n",
    "\n",
    "# 그래프2 : 파이차트\n",
    "plt.subplot(  ,   ,  )\n",
    "# 먼저 집계\n",
    "temp = data[   ].v\n",
    "\n",
    "# 그래프\n",
    "plt.p   (temp.v  , labels = temp.i  , autopct = '%.2f%%')\n",
    "\n",
    "plt.show()"
   ]
  },
  {
   "cell_type": "markdown",
   "metadata": {
    "id": "nqsZp9LJB6jA"
   },
   "source": [
    "* 파악된 내용을 적어 봅시다."
   ]
  },
  {
   "cell_type": "code",
   "execution_count": null,
   "metadata": {
    "id": "cCYdbJAAB6jB"
   },
   "outputs": [],
   "source": []
  },
  {
   "cell_type": "markdown",
   "metadata": {
    "id": "htHk0SdnDeNW"
   },
   "source": [
    "## (3) Sex"
   ]
  },
  {
   "cell_type": "code",
   "execution_count": null,
   "metadata": {},
   "outputs": [],
   "source": [
    "var = "
   ]
  },
  {
   "cell_type": "markdown",
   "metadata": {
    "id": "9cQvLOhJE-AZ"
   },
   "source": [
    "* 기초통계량"
   ]
  },
  {
   "cell_type": "code",
   "execution_count": null,
   "metadata": {
    "id": "fzfJAos6g86m"
   },
   "outputs": [],
   "source": [
    "# 범주별 빈도수\n",
    "data[    ].v"
   ]
  },
  {
   "cell_type": "code",
   "execution_count": null,
   "metadata": {
    "id": "48ZQmSGa_FMk"
   },
   "outputs": [],
   "source": [
    "# 범주별 비율\n",
    "data[    ].v   (nor   =  )"
   ]
  },
  {
   "cell_type": "markdown",
   "metadata": {
    "id": "5USCGxUd_Jd3"
   },
   "source": [
    "* 시각화\n",
    "    * plt.subplot을 이용해서 1행2열 프레임에 그래프 2개를 그려 봅시다.\n",
    "    * 그래프1 : sns.countplot\n",
    "    * 그래프2 : plt.pie"
   ]
  },
  {
   "cell_type": "code",
   "execution_count": null,
   "metadata": {
    "id": "o8aTkvBa_LbJ"
   },
   "outputs": [],
   "source": [
    "# 그래프 크기\n",
    "plt.figure(figsize = (8, 4))\n",
    "\n",
    "# 그래프1 : 막대 그래프\n",
    "plt.subplot(  ,   ,  )\n",
    "sns.co   (x =    , data =    )\n",
    "plt.grid()\n",
    "\n",
    "# 그래프2 : 파이차트\n",
    "plt.subplot(  ,   ,  )\n",
    "# 먼저 집계\n",
    "temp = data[   ].v\n",
    "\n",
    "# 그래프\n",
    "plt.p   (temp.v  , labels = temp.i  , autopct = '%.2f%%')\n",
    "\n",
    "plt.show()"
   ]
  },
  {
   "cell_type": "markdown",
   "metadata": {
    "id": "1wwUH_KSE-Ab"
   },
   "source": [
    "* 파악된 내용을 적어 봅시다."
   ]
  },
  {
   "cell_type": "code",
   "execution_count": null,
   "metadata": {
    "id": "KrO82Pg_E-Ab"
   },
   "outputs": [],
   "source": []
  },
  {
   "cell_type": "markdown",
   "metadata": {
    "id": "hzTj8EIqDoIq"
   },
   "source": [
    "## (4) Embarked"
   ]
  },
  {
   "cell_type": "code",
   "execution_count": null,
   "metadata": {},
   "outputs": [],
   "source": [
    "var = "
   ]
  },
  {
   "cell_type": "markdown",
   "metadata": {
    "id": "grkgb9vsE_xj"
   },
   "source": [
    "* 기초통계량"
   ]
  },
  {
   "cell_type": "code",
   "execution_count": null,
   "metadata": {
    "id": "fzfJAos6g86m"
   },
   "outputs": [],
   "source": [
    "# 범주별 빈도수\n",
    "data[    ].v"
   ]
  },
  {
   "cell_type": "code",
   "execution_count": null,
   "metadata": {
    "id": "48ZQmSGa_FMk"
   },
   "outputs": [],
   "source": [
    "# 범주별 비율\n",
    "data[    ].v   (nor   =  )"
   ]
  },
  {
   "cell_type": "markdown",
   "metadata": {
    "id": "5USCGxUd_Jd3"
   },
   "source": [
    "* 시각화\n",
    "    * plt.subplot을 이용해서 1행2열 프레임에 그래프 2개를 그려 봅시다.\n",
    "    * 그래프1 : sns.countplot\n",
    "    * 그래프2 : plt.pie"
   ]
  },
  {
   "cell_type": "code",
   "execution_count": null,
   "metadata": {
    "id": "o8aTkvBa_LbJ"
   },
   "outputs": [],
   "source": [
    "# 그래프 크기\n",
    "plt.figure(figsize = (8, 4))\n",
    "\n",
    "# 그래프1 : 막대 그래프\n",
    "plt.subplot(  ,   ,  )\n",
    "sns.co   (x =    , data =    )\n",
    "plt.grid()\n",
    "\n",
    "# 그래프2 : 파이차트\n",
    "plt.subplot(  ,   ,  )\n",
    "# 먼저 집계\n",
    "temp = data[   ].v\n",
    "\n",
    "# 그래프\n",
    "plt.p   (temp.v  , labels = temp.i  , autopct = '%.2f%%')\n",
    "\n",
    "plt.show()"
   ]
  },
  {
   "cell_type": "markdown",
   "metadata": {
    "id": "VVht8eRwE_xm"
   },
   "source": [
    "* 파악된 내용을 적어 봅시다."
   ]
  },
  {
   "cell_type": "code",
   "execution_count": null,
   "metadata": {
    "id": "un-UsppzE_xm"
   },
   "outputs": [],
   "source": []
  }
 ],
 "metadata": {
  "colab": {
   "provenance": [],
   "toc_visible": true
  },
  "kernelspec": {
   "display_name": "Python 3 (ipykernel)",
   "language": "python",
   "name": "python3"
  },
  "language_info": {
   "codemirror_mode": {
    "name": "ipython",
    "version": 3
   },
   "file_extension": ".py",
   "mimetype": "text/x-python",
   "name": "python",
   "nbconvert_exporter": "python",
   "pygments_lexer": "ipython3",
   "version": "3.9.13"
  }
 },
 "nbformat": 4,
 "nbformat_minor": 4
}
